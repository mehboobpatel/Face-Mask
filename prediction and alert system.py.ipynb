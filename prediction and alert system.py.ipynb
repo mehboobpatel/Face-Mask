{
 "cells": [
  {
   "cell_type": "code",
   "execution_count": 1,
   "metadata": {
    "id": "7pg8Tc6b0Q9L"
   },
   "outputs": [
    {
     "ename": "error",
     "evalue": "Unknown C++ exception from OpenCV code",
     "output_type": "error",
     "traceback": [
      "\u001b[1;31m---------------------------------------------------------------------------\u001b[0m",
      "\u001b[1;31merror\u001b[0m                                     Traceback (most recent call last)",
      "Input \u001b[1;32mIn [1]\u001b[0m, in \u001b[0;36m<module>\u001b[1;34m\u001b[0m\n\u001b[0;32m     32\u001b[0m \u001b[38;5;66;03m# While Loop to continuously detect camera feed\u001b[39;00m\n\u001b[0;32m     33\u001b[0m \u001b[38;5;28;01mwhile\u001b[39;00m(\u001b[38;5;28;01mTrue\u001b[39;00m):\n\u001b[1;32m---> 35\u001b[0m     ret, img \u001b[38;5;241m=\u001b[39m \u001b[43mvid_source\u001b[49m\u001b[38;5;241;43m.\u001b[39;49m\u001b[43mread\u001b[49m\u001b[43m(\u001b[49m\u001b[38;5;241;43m1\u001b[39;49m\u001b[43m)\u001b[49m\n\u001b[0;32m     36\u001b[0m     grayscale_img \u001b[38;5;241m=\u001b[39m cv2\u001b[38;5;241m.\u001b[39mcvtColor(img,cv2\u001b[38;5;241m.\u001b[39mCOLOR_BGR2GRAY)\n\u001b[0;32m     37\u001b[0m     faces \u001b[38;5;241m=\u001b[39m face_det_classifier\u001b[38;5;241m.\u001b[39mdetectMultiScale(grayscale_img,\u001b[38;5;241m1.3\u001b[39m,\u001b[38;5;241m5\u001b[39m)\n",
      "\u001b[1;31merror\u001b[0m: Unknown C++ exception from OpenCV code"
     ]
    }
   ],
   "source": [
    "# Import necessary linbraries\n",
    "from keras.models import load_model\n",
    "import cv2\n",
    "import numpy as np\n",
    "import tkinter\n",
    "from tkinter import messagebox\n",
    "import smtplib\n",
    "\n",
    "# Initialize Tkinter\n",
    "root = tkinter.Tk()\n",
    "root.withdraw()\n",
    "\n",
    "#Load trained deep learning model\n",
    "model = load_model('face_mask_detection_alert_system.h5')\n",
    "\n",
    "#Classifier to detect face\n",
    "# face_det_classifier=cv2.CascadeClassifier('haarcascade_frontalface_default.xml')\n",
    "face_det_classifier=cv2.CascadeClassifier('face-haar.xml')\n",
    "\n",
    "# Capture Video\n",
    "vid_source=cv2.VideoCapture(0)\n",
    "\n",
    "# Dictionaries containing details of Wearing Mask and Color of rectangle around face. If wearing mask then color would be \n",
    "# green and if not wearing mask then color of rectangle around face would be red\n",
    "text_dict={0:'Mask ON',1:'No Mask'}\n",
    "rect_color_dict={0:(0,255,0),1:(0,0,255)}\n",
    "\n",
    "SUBJECT = \"Subject\"   \n",
    "TEXT = \"One Visitor violated Face Mask Policy. See in the camera to recognize user. A Person has been detected without a face mask in the Hotel Lobby Area 9. Please Alert the authorities.\"\n",
    " \n",
    "\n",
    "# While Loop to continuously detect camera feed\n",
    "while(True):\n",
    "\n",
    "    ret, img = vid_source.read(1)\n",
    "    grayscale_img = cv2.cvtColor(img,cv2.COLOR_BGR2GRAY)\n",
    "    faces = face_det_classifier.detectMultiScale(grayscale_img,1.3,5)\n",
    "\n",
    "    for (x,y,w,h) in faces:\n",
    "    \n",
    "        face_img = grayscale_img[y:y+w,x:x+w]\n",
    "        resized_img = cv2.resize(face_img,(112,112))\n",
    "        normalized_img = resized_img/255.0\n",
    "        reshaped_img = np.reshape(normalized_img,(1,112,112,1))\n",
    "        result=model.predict(reshaped_img)\n",
    "\n",
    "        label=np.argmax(result,axis=1)[0]\n",
    "      \n",
    "        cv2.rectangle(img,(x,y),(x+w,y+h),rect_color_dict[label],2)\n",
    "        cv2.rectangle(img,(x,y-40),(x+w,y),rect_color_dict[label],-1)\n",
    "        cv2.putText(img, text_dict[label], (x, y-10),cv2.FONT_HERSHEY_SIMPLEX,0.8,(0,0,0),2) \n",
    "        \n",
    "        # If label = 1 then it means wearing No Mask and 0 means wearing Mask\n",
    "        if (label == 1):\n",
    "            # Throw a Warning Message to tell user to wear a mask if not wearing one. This will stay\n",
    "            #open and No Access will be given He/She wears the mask\n",
    "            messagebox.showwarning(\"Warning\",\"Access Denied. Please wear a Face Mask\")\n",
    "            \n",
    "            # Send an email to the administrator if access denied/user not wearing face mask \n",
    "            message = 'Subject: {}\\n\\n{}'.format(SUBJECT, TEXT)\n",
    "            mail = smtplib.SMTP('smtp.gmail.com', 587)\n",
    "            mail.ehlo()\n",
    "            mail.starttls()\n",
    "            mail.login('trentboult446@gmail.com','trentboult')\n",
    "            mail.sendmail('trentboult446@gmail.com','trentboult446@gmail.com',message)\n",
    "            mail.close\n",
    "        else:\n",
    "            pass\n",
    "            break\n",
    "\n",
    "    cv2.imshow('LIVE Video Feed',img)\n",
    "    key=cv2.waitKey(1)\n",
    "    \n",
    "    if(key==27):  #27 is escp key to exit\n",
    "        break\n",
    "        \n",
    "cv2.destroyAllWindows()\n",
    "source.release()\n"
   ]
  },
  {
   "cell_type": "code",
   "execution_count": null,
   "metadata": {},
   "outputs": [],
   "source": []
  },
  {
   "cell_type": "code",
   "execution_count": null,
   "metadata": {},
   "outputs": [],
   "source": []
  }
 ],
 "metadata": {
  "accelerator": "GPU",
  "colab": {
   "collapsed_sections": [],
   "name": "mask_alert_part2.ipynb",
   "provenance": []
  },
  "kernelspec": {
   "display_name": "Python 3 (ipykernel)",
   "language": "python",
   "name": "python3"
  },
  "language_info": {
   "codemirror_mode": {
    "name": "ipython",
    "version": 3
   },
   "file_extension": ".py",
   "mimetype": "text/x-python",
   "name": "python",
   "nbconvert_exporter": "python",
   "pygments_lexer": "ipython3",
   "version": "3.8.6"
  }
 },
 "nbformat": 4,
 "nbformat_minor": 4
}
